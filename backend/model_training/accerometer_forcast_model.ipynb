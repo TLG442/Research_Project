{
 "cells": [
  {
   "cell_type": "code",
   "execution_count": 3,
   "metadata": {},
   "outputs": [
    {
     "name": "stdout",
     "output_type": "stream",
     "text": [
      "Min Sample: 0.0\n",
      "Max Sample: 446.44347657000003\n",
      "Initial data length: 11147365\n",
      "Columns after concatenation: ['Sample', 'Value', 'Category']\n",
      "Min Timestamp: 2023-01-01 00:00:00\n",
      "Max Timestamp: 2023-01-01 07:26:26.608594179\n"
     ]
    },
    {
     "name": "stderr",
     "output_type": "stream",
     "text": [
      "C:\\Users\\User\\AppData\\Local\\Temp\\ipykernel_9640\\99919840.py:91: FutureWarning: 'S' is deprecated and will be removed in a future version, please use 's' instead.\n",
      "  data = data.set_index('Timestamp').resample('1S').mean().interpolate().reset_index()\n"
     ]
    },
    {
     "name": "stdout",
     "output_type": "stream",
     "text": [
      "After resampling to 1S: 26787\n",
      "Unique Category values after rounding: [0 1 2 3]\n",
      "After dropping NaNs in Shell 1: 26787\n"
     ]
    }
   ],
   "source": [
    "import pandas as pd\n",
    "import numpy as np\n",
    "from sklearn.preprocessing import MinMaxScaler\n",
    "import matplotlib.pyplot as plt\n",
    "# Load datasets\n",
    "files = [\n",
    "    'LO_NL_0.18 LPS_A2.csv', 'LO_NL_ND_A2.csv', 'LO_NL_0.47 LPS_A2.csv',\n",
    "    'LO_GL_0.18 LPS_A2.csv', 'LO_GL_ND_A2.csv', 'LO_GL_0.47 LPS_A2.csv',\n",
    "    'LO_CC_0.18 LPS_A2.csv', 'LO_CC_ND_A2.csv', 'LO_CC_0.47 LPS_A2.csv',\n",
    "    'LO_LC_0.18 LPS_A2.csv', 'LO_LC_ND_A2.csv', 'LO_LC_0.47 LPS_A2.csv',\n",
    "    \n",
    "]\n",
    "categories = [0, 0, 0, 1, 1, 1, 2, 2, 2, 3, 3, 3]\n",
    "\n",
    "# data_18_noleak = pd.read_csv('Accelerometer_readings/LO_NL_0.18 LPS_A2.csv')\n",
    "# data_noFlow_noleak = pd.read_csv('Accelerometer_readings/LO_NL_ND_A2.csv')\n",
    "# data_47_noleak = pd.read_csv('Accelerometer_readings/LO_NL_0.47 LPS_A2.csv')\n",
    "\n",
    "# data_18_gasket = pd.read_csv('Accelerometer_readings/LO_GL_0.18 LPS_A2.csv')\n",
    "# data_gasket_noFlow = pd.read_csv('Accelerometer_readings/LO_GL_ND_A2.csv')\n",
    "# data_47_nd = pd.read_csv('Accelerometer_readings/LO_GL_0.47 LPS_A2.csv')\n",
    "\n",
    "\n",
    "# plt.figure(figsize=(12, 5))\n",
    "# plt.plot(data_18_noleak['Sample'], data_18_noleak['Value'], label=\"no leak 0.18 flow\", alpha=0.7)\n",
    "# plt.xlabel(\"Sample/minutes\")\n",
    "# plt.ylabel(\"Value\")\n",
    "# plt.title(\"no leak 0.18 flow\")\n",
    "# plt.legend()\n",
    "# plt.show()\n",
    "\n",
    "# plt.figure(figsize=(12, 5))\n",
    "# plt.plot(data_noFlow_noleak['Sample'], data_noFlow_noleak['Value'], label=\"data_noFlow_noleak\", alpha=0.7)\n",
    "# plt.xlabel(\"Sample/minutes\")\n",
    "# plt.ylabel(\"Value\")\n",
    "# plt.title(\"data_noFlow_noleak\")\n",
    "# plt.legend()\n",
    "# plt.show()\n",
    "\n",
    "# plt.figure(figsize=(12, 5))\n",
    "# plt.plot(data_47_noleak['Sample'], data_47_noleak['Value'], label=\"data_47_noleak\", alpha=0.7)\n",
    "# plt.xlabel(\"Sample/minutes\")\n",
    "# plt.ylabel(\"Value\")\n",
    "# plt.title(\"no leak 0.18 flow\")\n",
    "# plt.legend()\n",
    "# plt.show()\n",
    "\n",
    "\n",
    "data_list = []\n",
    "cumulative_offset = 0\n",
    "\n",
    "for file, cat in zip(files, categories):\n",
    "    df = pd.read_csv(f'Accelerometer_readings/{file}')\n",
    "    \n",
    "    # Ensure the first dataset starts at 0, then shift others accordingly\n",
    "    if cumulative_offset > 0:\n",
    "        df['Sample'] = df['Sample'] + cumulative_offset + 1  # +1 prevents overlap\n",
    "    \n",
    "    df['Category'] = cat\n",
    "    data_list.append(df)\n",
    "    \n",
    "    # Track the last sample used instead of max()\n",
    "    cumulative_offset = df['Sample'].max()\n",
    "\n",
    "# Combine all data\n",
    "data = pd.concat(data_list).reset_index(drop=True)\n",
    "\n",
    "print(\"Min Sample:\", data['Sample'].min())\n",
    "print(\"Max Sample:\", data['Sample'].max())\n",
    "\n",
    "\n",
    "\n",
    "\n",
    "# plt.figure(figsize=(12, 5))\n",
    "# plt.plot(data['Sample'], data['Value'], label=\"Raw concatenated Data\", alpha=0.7)\n",
    "# plt.xlabel(\"Sample/minutes\")\n",
    "# plt.ylabel(\"Value\")\n",
    "# plt.title(\"Raw concatenated Data\")\n",
    "# plt.legend()\n",
    "# plt.show()\n",
    "\n",
    "print(\"Initial data length:\", len(data))\n",
    "print(\"Columns after concatenation:\", data.columns.tolist())\n",
    "\n",
    "# Convert 'Sample' to 'Timestamp'\n",
    "data['Timestamp'] = pd.to_datetime(data['Sample'] * 60, unit='s', origin='2023-01-01')\n",
    "\n",
    "print(\"Min Timestamp:\", data['Timestamp'].min())\n",
    "print(\"Max Timestamp:\", data['Timestamp'].max())\n",
    "\n",
    "data = data.set_index('Timestamp').resample('1S').mean().interpolate().reset_index()\n",
    "print(\"After resampling to 1S:\", len(data))\n",
    "\n",
    "data['Category'] = data['Category'].round().astype(int)\n",
    "print(\"Unique Category values after rounding:\", data['Category'].unique())\n",
    "# Handle missing values\n",
    "data = data.dropna()\n",
    "print(\"After dropping NaNs in Shell 1:\", len(data))\n",
    "\n",
    "# Normalize 'Value'\n",
    "scaler = MinMaxScaler()\n",
    "data['Value'] = scaler.fit_transform(data[['Value']])\n",
    "\n"
   ]
  },
  {
   "cell_type": "code",
   "execution_count": 4,
   "metadata": {},
   "outputs": [],
   "source": [
    "# Prediction horizon: 2 hours = 7200 seconds (1-second intervals)\n",
    "horizon_steps = 7200\n",
    "\n",
    "# Create target: 1 if leak within 2 hours, else 0\n",
    "data['Target'] = data['Category'].shift(-1).rolling(window=horizon_steps, min_periods=1).max().fillna(0).astype(int)\n",
    "data.loc[data.index[-horizon_steps:], 'Target'] = 0  # Avoid chained assignment warning"
   ]
  },
  {
   "cell_type": "code",
   "execution_count": 5,
   "metadata": {},
   "outputs": [
    {
     "name": "stdout",
     "output_type": "stream",
     "text": [
      "Unique Target_Category values: [1 2 3]\n",
      "After dropping NaNs in Shell 2: 26781\n",
      "Adjusted seq_length: 30\n"
     ]
    }
   ],
   "source": [
    "# Set a time-based target: Predict the category of the leak within the next 2 hours\n",
    "def get_leak_category_within_2_hours(index):\n",
    "    future_data = data.loc[index:].set_index('Timestamp')\n",
    "    window = future_data[future_data.index <= data.loc[index, 'Timestamp'] + pd.Timedelta(hours=2)]\n",
    "    if len(window) > 0:\n",
    "        return int(window['Category'].max())  # Ensure integer output\n",
    "    return 0  # Default to no leak if no data\n",
    "\n",
    "data['Target_Category'] = data.index.map(get_leak_category_within_2_hours)\n",
    "\n",
    "# Debug: Check unique values in Target_Category\n",
    "print(\"Unique Target_Category values:\", data['Target_Category'].unique())\n",
    "\n",
    "# Add rolling features\n",
    "window = 6\n",
    "data['Rolling_Mean'] = data['Value'].rolling(window=window).mean().shift(1)\n",
    "data['Rolling_Std'] = data['Value'].rolling(window=window).std().shift(1)\n",
    "\n",
    "# Drop NaNs\n",
    "data = data.dropna()\n",
    "print(\"After dropping NaNs in Shell 2:\", len(data))\n",
    "\n",
    "# Define sequence length\n",
    "seq_length = min(30, max(1, len(data) - 1))\n",
    "print(\"Adjusted seq_length:\", seq_length)"
   ]
  },
  {
   "cell_type": "code",
   "execution_count": 55,
   "metadata": {},
   "outputs": [
    {
     "name": "stdout",
     "output_type": "stream",
     "text": [
      "Unique y values before encoding: [1 2 3]\n",
      "X shape: (26751, 30, 3)\n",
      "y_encoded shape: (26751, 4)\n",
      "X_train shape: (21400, 30, 3)\n",
      "X_test shape: (5351, 30, 3)\n",
      "y_train shape: (21400, 4)\n",
      "y_test shape: (5351, 4)\n"
     ]
    }
   ],
   "source": [
    "# Create sequences\n",
    "X_list = []\n",
    "y_list = []\n",
    "for i in range(len(data) - seq_length):\n",
    "    seq = data[['Value', 'Rolling_Mean', 'Rolling_Std']].iloc[i:i+seq_length].values\n",
    "    X_list.append(seq)\n",
    "    y_list.append(data['Target_Category'].iloc[i+seq_length])\n",
    "\n",
    "# Convert to NumPy arrays\n",
    "if len(X_list) > 0:\n",
    "    X = np.stack(X_list, axis=0)\n",
    "    y = np.array(y_list)\n",
    "else:\n",
    "    raise ValueError(\"No sequences generated. Data length too short.\")\n",
    "\n",
    "# Debug: Check unique values in y before encoding\n",
    "print(\"Unique y values before encoding:\", np.unique(y))\n",
    "\n",
    "# One-hot encode the target for multi-class classification\n",
    "from sklearn.preprocessing import OneHotEncoder\n",
    "encoder = OneHotEncoder(sparse_output=False, categories=[[0, 1, 2, 3]])\n",
    "y_encoded = encoder.fit_transform(y.reshape(-1, 1))\n",
    "\n",
    "print(\"X shape:\", X.shape)\n",
    "print(\"y_encoded shape:\", y_encoded.shape)\n",
    "\n",
    "# Train-test split\n",
    "split = max(1, int(0.8 * len(X)))\n",
    "X_train, X_test = X[:split], X[split:]\n",
    "y_train, y_test = y_encoded[:split], y_encoded[split:]\n",
    "print(\"X_train shape:\", X_train.shape)\n",
    "print(\"X_test shape:\", X_test.shape)\n",
    "print(\"y_train shape:\", y_train.shape)\n",
    "print(\"y_test shape:\", y_test.shape)"
   ]
  },
  {
   "cell_type": "code",
   "execution_count": 58,
   "metadata": {},
   "outputs": [
    {
     "name": "stdout",
     "output_type": "stream",
     "text": [
      "Epoch 1/10\n",
      "\u001b[1m669/669\u001b[0m \u001b[32m━━━━━━━━━━━━━━━━━━━━\u001b[0m\u001b[37m\u001b[0m \u001b[1m5s\u001b[0m 5ms/step - accuracy: 0.4077 - loss: 1.0866 - val_accuracy: 0.9772 - val_loss: 0.6091\n",
      "Epoch 2/10\n",
      "\u001b[1m669/669\u001b[0m \u001b[32m━━━━━━━━━━━━━━━━━━━━\u001b[0m\u001b[37m\u001b[0m \u001b[1m3s\u001b[0m 5ms/step - accuracy: 0.6340 - loss: 0.7413 - val_accuracy: 0.9342 - val_loss: 0.7297\n",
      "Epoch 3/10\n",
      "\u001b[1m669/669\u001b[0m \u001b[32m━━━━━━━━━━━━━━━━━━━━\u001b[0m\u001b[37m\u001b[0m \u001b[1m4s\u001b[0m 6ms/step - accuracy: 0.6366 - loss: 0.7230 - val_accuracy: 0.9763 - val_loss: 0.5781\n",
      "Epoch 4/10\n",
      "\u001b[1m669/669\u001b[0m \u001b[32m━━━━━━━━━━━━━━━━━━━━\u001b[0m\u001b[37m\u001b[0m \u001b[1m4s\u001b[0m 6ms/step - accuracy: 0.6555 - loss: 0.6877 - val_accuracy: 0.9069 - val_loss: 0.6863\n",
      "Epoch 5/10\n",
      "\u001b[1m669/669\u001b[0m \u001b[32m━━━━━━━━━━━━━━━━━━━━\u001b[0m\u001b[37m\u001b[0m \u001b[1m4s\u001b[0m 6ms/step - accuracy: 0.6451 - loss: 0.6997 - val_accuracy: 0.9641 - val_loss: 0.6498\n",
      "Epoch 6/10\n",
      "\u001b[1m669/669\u001b[0m \u001b[32m━━━━━━━━━━━━━━━━━━━━\u001b[0m\u001b[37m\u001b[0m \u001b[1m4s\u001b[0m 6ms/step - accuracy: 0.6525 - loss: 0.6768 - val_accuracy: 0.9695 - val_loss: 0.5784\n",
      "Epoch 7/10\n",
      "\u001b[1m669/669\u001b[0m \u001b[32m━━━━━━━━━━━━━━━━━━━━\u001b[0m\u001b[37m\u001b[0m \u001b[1m4s\u001b[0m 6ms/step - accuracy: 0.6551 - loss: 0.6763 - val_accuracy: 0.6647 - val_loss: 0.8668\n",
      "Epoch 8/10\n",
      "\u001b[1m669/669\u001b[0m \u001b[32m━━━━━━━━━━━━━━━━━━━━\u001b[0m\u001b[37m\u001b[0m \u001b[1m4s\u001b[0m 6ms/step - accuracy: 0.6493 - loss: 0.6762 - val_accuracy: 0.6930 - val_loss: 0.8815\n",
      "Epoch 9/10\n",
      "\u001b[1m669/669\u001b[0m \u001b[32m━━━━━━━━━━━━━━━━━━━━\u001b[0m\u001b[37m\u001b[0m \u001b[1m4s\u001b[0m 6ms/step - accuracy: 0.6509 - loss: 0.6715 - val_accuracy: 0.8675 - val_loss: 0.6766\n",
      "Epoch 10/10\n",
      "\u001b[1m669/669\u001b[0m \u001b[32m━━━━━━━━━━━━━━━━━━━━\u001b[0m\u001b[37m\u001b[0m \u001b[1m4s\u001b[0m 6ms/step - accuracy: 0.6535 - loss: 0.6608 - val_accuracy: 0.9880 - val_loss: 0.5547\n"
     ]
    },
    {
     "data": {
      "image/png": "[encoded data removed]",
      "text/plain": [
       "<Figure size 640x480 with 1 Axes>"
      ]
     },
     "metadata": {},
     "output_type": "display_data"
    }
   ],
   "source": [
    "from tensorflow.keras.models import Sequential\n",
    "from tensorflow.keras.layers import LSTM, Dense, Dropout\n",
    "\n",
    "# Define LSTM model for multi-class classification\n",
    "model = Sequential()\n",
    "model.add(LSTM(50, activation='relu', input_shape=(seq_length, X.shape[2])))\n",
    "model.add(Dropout(0.2))\n",
    "model.add(Dense(4, activation='softmax'))  # 4 outputs: 0 (No Leak), 1 (GL), 2 (CC), 3 (LC)\n",
    "\n",
    "# Compile\n",
    "model.compile(optimizer='adam', loss='categorical_crossentropy', metrics=['accuracy'])\n",
    "\n",
    "# Train\n",
    "history = model.fit(X_train, y_train, epochs=10, batch_size=32, validation_data=(X_test, y_test))\n",
    "\n",
    "# Plot training history\n",
    "plt.plot(history.history['accuracy'], label='Train Accuracy')\n",
    "plt.plot(history.history['val_accuracy'], label='Validation Accuracy')\n",
    "plt.xlabel('Epoch')\n",
    "plt.ylabel('Accuracy')\n",
    "plt.legend()\n",
    "plt.show()"
   ]
  },
  {
   "cell_type": "code",
   "execution_count": 59,
   "metadata": {},
   "outputs": [
    {
     "name": "stdout",
     "output_type": "stream",
     "text": [
      "\u001b[1m168/168\u001b[0m \u001b[32m━━━━━━━━━━━━━━━━━━━━\u001b[0m\u001b[37m\u001b[0m \u001b[1m1s\u001b[0m 3ms/step\n",
      "Prediction 1:\n",
      "  Predicted Category: LC Leak\n",
      "  Probability: 58.00%\n",
      "  All Probabilities: No Leak: 0.00%, Gasket Leak (GL): 2.10%, CC Leak: 39.90%, LC Leak: 58.00%\n",
      "\n",
      "Prediction 2:\n",
      "  Predicted Category: LC Leak\n",
      "  Probability: 58.49%\n",
      "  All Probabilities: No Leak: 0.00%, Gasket Leak (GL): 1.90%, CC Leak: 39.61%, LC Leak: 58.49%\n",
      "\n",
      "Prediction 3:\n",
      "  Predicted Category: LC Leak\n",
      "  Probability: 58.60%\n",
      "  All Probabilities: No Leak: 0.00%, Gasket Leak (GL): 1.87%, CC Leak: 39.54%, LC Leak: 58.60%\n",
      "\n",
      "Prediction 4:\n",
      "  Predicted Category: LC Leak\n",
      "  Probability: 56.97%\n",
      "  All Probabilities: No Leak: 0.00%, Gasket Leak (GL): 2.64%, CC Leak: 40.39%, LC Leak: 56.97%\n",
      "\n",
      "Prediction 5:\n",
      "  Predicted Category: LC Leak\n",
      "  Probability: 59.01%\n",
      "  All Probabilities: No Leak: 0.00%, Gasket Leak (GL): 1.67%, CC Leak: 39.32%, LC Leak: 59.01%\n",
      "\n",
      "\u001b[1m168/168\u001b[0m \u001b[32m━━━━━━━━━━━━━━━━━━━━\u001b[0m\u001b[37m\u001b[0m \u001b[1m0s\u001b[0m 3ms/step - accuracy: 0.9900 - loss: 0.5552\n",
      "Test Loss: 0.5547\n",
      "Test Accuracy: 0.9880\n"
     ]
    }
   ],
   "source": [
    "# Predict on test set\n",
    "y_pred = model.predict(X_test)\n",
    "\n",
    "# Convert predictions to category probabilities and find the maximum\n",
    "category_names = ['No Leak', 'Gasket Leak (GL)', 'CC Leak', 'LC Leak']\n",
    "for i in range(min(5, len(y_pred))):  # Show first 5 predictions as an example\n",
    "    pred_probs = y_pred[i]\n",
    "    max_prob_idx = np.argmax(pred_probs)\n",
    "    max_prob = pred_probs[max_prob_idx] * 100  # Convert to percentage\n",
    "    predicted_category = category_names[max_prob_idx]\n",
    "    print(f\"Prediction {i+1}:\")\n",
    "    print(f\"  Predicted Category: {predicted_category}\")\n",
    "    print(f\"  Probability: {max_prob:.2f}%\")\n",
    "    print(f\"  All Probabilities: {', '.join([f'{cat}: {prob*100:.2f}%' for cat, prob in zip(category_names, pred_probs)])}\")\n",
    "    print()\n",
    "\n",
    "# Evaluate model\n",
    "loss, accuracy = model.evaluate(X_test, y_test)\n",
    "print(f\"Test Loss: {loss:.4f}\")\n",
    "print(f\"Test Accuracy: {accuracy:.4f}\")"
   ]
  },
  {
   "cell_type": "code",
   "execution_count": null,
   "metadata": {},
   "outputs": [],
   "source": []
  }
 ],
 "metadata": {
  "kernelspec": {
   "display_name": "Research_env",
   "language": "python",
   "name": "python3"
  },
  "language_info": {
   "codemirror_mode": {
    "name": "ipython",
    "version": 3
   },
   "file_extension": ".py",
   "mimetype": "text/x-python",
   "name": "python",
   "nbconvert_exporter": "python",
   "pygments_lexer": "ipython3",
   "version": "3.12.9"
  }
 },
 "nbformat": 4,
 "nbformat_minor": 2
}
